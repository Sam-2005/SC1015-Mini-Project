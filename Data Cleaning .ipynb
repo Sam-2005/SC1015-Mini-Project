{
 "cells": [
  {
   "cell_type": "code",
   "execution_count": 1,
   "id": "cf4f84e2",
   "metadata": {},
   "outputs": [],
   "source": [
    "import pandas as pd\n",
    "import matplotlib.pyplot as plt\n",
    "import seaborn as sb\n",
    "import numpy as np\n",
    "from sklearn.preprocessing import OneHotEncoder, MinMaxScaler"
   ]
  },
  {
   "cell_type": "markdown",
   "id": "cf34ef5e",
   "metadata": {},
   "source": [
    "# Importing Data"
   ]
  },
  {
   "cell_type": "code",
   "execution_count": 2,
   "id": "8dd08bc0",
   "metadata": {},
   "outputs": [
    {
     "data": {
      "text/html": [
       "<div>\n",
       "<style scoped>\n",
       "    .dataframe tbody tr th:only-of-type {\n",
       "        vertical-align: middle;\n",
       "    }\n",
       "\n",
       "    .dataframe tbody tr th {\n",
       "        vertical-align: top;\n",
       "    }\n",
       "\n",
       "    .dataframe thead th {\n",
       "        text-align: right;\n",
       "    }\n",
       "</style>\n",
       "<table border=\"1\" class=\"dataframe\">\n",
       "  <thead>\n",
       "    <tr style=\"text-align: right;\">\n",
       "      <th></th>\n",
       "      <th>model</th>\n",
       "      <th>year</th>\n",
       "      <th>price</th>\n",
       "      <th>transmission</th>\n",
       "      <th>mileage</th>\n",
       "      <th>fuelType</th>\n",
       "      <th>tax</th>\n",
       "      <th>mpg</th>\n",
       "      <th>engineSize</th>\n",
       "      <th>Make</th>\n",
       "    </tr>\n",
       "  </thead>\n",
       "  <tbody>\n",
       "    <tr>\n",
       "      <th>0</th>\n",
       "      <td>7 Series</td>\n",
       "      <td>2017</td>\n",
       "      <td>52950</td>\n",
       "      <td>Automatic</td>\n",
       "      <td>22000</td>\n",
       "      <td>Petrol</td>\n",
       "      <td>150.0</td>\n",
       "      <td>22.1</td>\n",
       "      <td>6.6</td>\n",
       "      <td>BMW</td>\n",
       "    </tr>\n",
       "    <tr>\n",
       "      <th>1</th>\n",
       "      <td>7 Series</td>\n",
       "      <td>2017</td>\n",
       "      <td>57000</td>\n",
       "      <td>Automatic</td>\n",
       "      <td>11297</td>\n",
       "      <td>Petrol</td>\n",
       "      <td>145.0</td>\n",
       "      <td>22.1</td>\n",
       "      <td>6.6</td>\n",
       "      <td>BMW</td>\n",
       "    </tr>\n",
       "    <tr>\n",
       "      <th>2</th>\n",
       "      <td>A8</td>\n",
       "      <td>2015</td>\n",
       "      <td>32000</td>\n",
       "      <td>Automatic</td>\n",
       "      <td>30306</td>\n",
       "      <td>Petrol</td>\n",
       "      <td>570.0</td>\n",
       "      <td>25.0</td>\n",
       "      <td>6.3</td>\n",
       "      <td>audi</td>\n",
       "    </tr>\n",
       "    <tr>\n",
       "      <th>3</th>\n",
       "      <td>R8</td>\n",
       "      <td>2019</td>\n",
       "      <td>129000</td>\n",
       "      <td>Semi-Auto</td>\n",
       "      <td>4000</td>\n",
       "      <td>Petrol</td>\n",
       "      <td>145.0</td>\n",
       "      <td>21.4</td>\n",
       "      <td>5.2</td>\n",
       "      <td>audi</td>\n",
       "    </tr>\n",
       "    <tr>\n",
       "      <th>4</th>\n",
       "      <td>R8</td>\n",
       "      <td>2020</td>\n",
       "      <td>137995</td>\n",
       "      <td>Semi-Auto</td>\n",
       "      <td>70</td>\n",
       "      <td>Petrol</td>\n",
       "      <td>145.0</td>\n",
       "      <td>21.1</td>\n",
       "      <td>5.2</td>\n",
       "      <td>audi</td>\n",
       "    </tr>\n",
       "    <tr>\n",
       "      <th>...</th>\n",
       "      <td>...</td>\n",
       "      <td>...</td>\n",
       "      <td>...</td>\n",
       "      <td>...</td>\n",
       "      <td>...</td>\n",
       "      <td>...</td>\n",
       "      <td>...</td>\n",
       "      <td>...</td>\n",
       "      <td>...</td>\n",
       "      <td>...</td>\n",
       "    </tr>\n",
       "    <tr>\n",
       "      <th>72202</th>\n",
       "      <td>i3</td>\n",
       "      <td>2017</td>\n",
       "      <td>19300</td>\n",
       "      <td>Automatic</td>\n",
       "      <td>32867</td>\n",
       "      <td>Other</td>\n",
       "      <td>0.0</td>\n",
       "      <td>470.8</td>\n",
       "      <td>0.6</td>\n",
       "      <td>BMW</td>\n",
       "    </tr>\n",
       "    <tr>\n",
       "      <th>72203</th>\n",
       "      <td>i3</td>\n",
       "      <td>2017</td>\n",
       "      <td>20000</td>\n",
       "      <td>Automatic</td>\n",
       "      <td>19178</td>\n",
       "      <td>Other</td>\n",
       "      <td>0.0</td>\n",
       "      <td>470.8</td>\n",
       "      <td>0.6</td>\n",
       "      <td>BMW</td>\n",
       "    </tr>\n",
       "    <tr>\n",
       "      <th>72204</th>\n",
       "      <td>i3</td>\n",
       "      <td>2017</td>\n",
       "      <td>19500</td>\n",
       "      <td>Automatic</td>\n",
       "      <td>23956</td>\n",
       "      <td>Other</td>\n",
       "      <td>135.0</td>\n",
       "      <td>470.8</td>\n",
       "      <td>0.6</td>\n",
       "      <td>BMW</td>\n",
       "    </tr>\n",
       "    <tr>\n",
       "      <th>72205</th>\n",
       "      <td>i3</td>\n",
       "      <td>2016</td>\n",
       "      <td>17000</td>\n",
       "      <td>Automatic</td>\n",
       "      <td>41063</td>\n",
       "      <td>Other</td>\n",
       "      <td>0.0</td>\n",
       "      <td>470.8</td>\n",
       "      <td>0.6</td>\n",
       "      <td>BMW</td>\n",
       "    </tr>\n",
       "    <tr>\n",
       "      <th>72206</th>\n",
       "      <td>i3</td>\n",
       "      <td>2017</td>\n",
       "      <td>17600</td>\n",
       "      <td>Automatic</td>\n",
       "      <td>50867</td>\n",
       "      <td>Other</td>\n",
       "      <td>135.0</td>\n",
       "      <td>470.8</td>\n",
       "      <td>0.6</td>\n",
       "      <td>BMW</td>\n",
       "    </tr>\n",
       "  </tbody>\n",
       "</table>\n",
       "<p>72207 rows × 10 columns</p>\n",
       "</div>"
      ],
      "text/plain": [
       "          model  year   price transmission  mileage fuelType    tax    mpg  \\\n",
       "0      7 Series  2017   52950    Automatic    22000   Petrol  150.0   22.1   \n",
       "1      7 Series  2017   57000    Automatic    11297   Petrol  145.0   22.1   \n",
       "2            A8  2015   32000    Automatic    30306   Petrol  570.0   25.0   \n",
       "3            R8  2019  129000    Semi-Auto     4000   Petrol  145.0   21.4   \n",
       "4            R8  2020  137995    Semi-Auto       70   Petrol  145.0   21.1   \n",
       "...         ...   ...     ...          ...      ...      ...    ...    ...   \n",
       "72202        i3  2017   19300    Automatic    32867    Other    0.0  470.8   \n",
       "72203        i3  2017   20000    Automatic    19178    Other    0.0  470.8   \n",
       "72204        i3  2017   19500    Automatic    23956    Other  135.0  470.8   \n",
       "72205        i3  2016   17000    Automatic    41063    Other    0.0  470.8   \n",
       "72206        i3  2017   17600    Automatic    50867    Other  135.0  470.8   \n",
       "\n",
       "       engineSize  Make  \n",
       "0             6.6   BMW  \n",
       "1             6.6   BMW  \n",
       "2             6.3  audi  \n",
       "3             5.2  audi  \n",
       "4             5.2  audi  \n",
       "...           ...   ...  \n",
       "72202         0.6   BMW  \n",
       "72203         0.6   BMW  \n",
       "72204         0.6   BMW  \n",
       "72205         0.6   BMW  \n",
       "72206         0.6   BMW  \n",
       "\n",
       "[72207 rows x 10 columns]"
      ]
     },
     "execution_count": 2,
     "metadata": {},
     "output_type": "execute_result"
    }
   ],
   "source": [
    "data = pd.read_csv(\"cars_dataset (1).csv\")\n",
    "data"
   ]
  },
  {
   "cell_type": "code",
   "execution_count": 3,
   "id": "7a053742",
   "metadata": {},
   "outputs": [
    {
     "data": {
      "text/plain": [
       "(72207, 10)"
      ]
     },
     "execution_count": 3,
     "metadata": {},
     "output_type": "execute_result"
    }
   ],
   "source": [
    "data.shape"
   ]
  },
  {
   "cell_type": "code",
   "execution_count": 4,
   "id": "88c8f47d",
   "metadata": {},
   "outputs": [
    {
     "name": "stdout",
     "output_type": "stream",
     "text": [
      "<bound method NDFrame.describe of           model  year   price transmission  mileage fuelType    tax    mpg  \\\n",
      "0      7 Series  2017   52950    Automatic    22000   Petrol  150.0   22.1   \n",
      "1      7 Series  2017   57000    Automatic    11297   Petrol  145.0   22.1   \n",
      "2            A8  2015   32000    Automatic    30306   Petrol  570.0   25.0   \n",
      "3            R8  2019  129000    Semi-Auto     4000   Petrol  145.0   21.4   \n",
      "4            R8  2020  137995    Semi-Auto       70   Petrol  145.0   21.1   \n",
      "...         ...   ...     ...          ...      ...      ...    ...    ...   \n",
      "72202        i3  2017   19300    Automatic    32867    Other    0.0  470.8   \n",
      "72203        i3  2017   20000    Automatic    19178    Other    0.0  470.8   \n",
      "72204        i3  2017   19500    Automatic    23956    Other  135.0  470.8   \n",
      "72205        i3  2016   17000    Automatic    41063    Other    0.0  470.8   \n",
      "72206        i3  2017   17600    Automatic    50867    Other  135.0  470.8   \n",
      "\n",
      "       engineSize  Make  \n",
      "0             6.6   BMW  \n",
      "1             6.6   BMW  \n",
      "2             6.3  audi  \n",
      "3             5.2  audi  \n",
      "4             5.2  audi  \n",
      "...           ...   ...  \n",
      "72202         0.6   BMW  \n",
      "72203         0.6   BMW  \n",
      "72204         0.6   BMW  \n",
      "72205         0.6   BMW  \n",
      "72206         0.6   BMW  \n",
      "\n",
      "[72207 rows x 10 columns]>\n"
     ]
    }
   ],
   "source": [
    "print(data.describe)"
   ]
  },
  {
   "cell_type": "code",
   "execution_count": 5,
   "id": "29b7b957",
   "metadata": {},
   "outputs": [
    {
     "name": "stdout",
     "output_type": "stream",
     "text": [
      "Missing values:\n",
      "model           0\n",
      "year            0\n",
      "price           0\n",
      "transmission    0\n",
      "mileage         0\n",
      "fuelType        0\n",
      "tax             0\n",
      "mpg             0\n",
      "engineSize      0\n",
      "Make            0\n",
      "dtype: int64\n",
      "\n",
      "Duplicate rows: 837\n"
     ]
    }
   ],
   "source": [
    "# Check for missing values\n",
    "missing_values = data.isnull().sum()\n",
    "\n",
    "# Check for duplicate rows\n",
    "duplicate_rows = data.duplicated().sum()\n",
    "\n",
    "# Output the findings\n",
    "print(f\"Missing values:\\n{missing_values}\\n\")\n",
    "print(f\"Duplicate rows: {duplicate_rows}\")\n"
   ]
  },
  {
   "cell_type": "markdown",
   "id": "11bb6d64",
   "metadata": {},
   "source": [
    "**From data.shape() we can see that our dataset has 72435 rows and 10 columns. However, we can see that there are 842 duplicate rows in our dataset. There are no missing values in any of the parameters.**"
   ]
  },
  {
   "cell_type": "markdown",
   "id": "b517dd3e",
   "metadata": {},
   "source": [
    "# Removing Duplicates\n",
    "\n",
    "We will now be removing the 842 duplicate rows from our dataset.\n",
    "Thus, total number of rows at the end = (72435 - 842) = (71593)"
   ]
  },
  {
   "cell_type": "code",
   "execution_count": 6,
   "id": "5c69502a",
   "metadata": {},
   "outputs": [
    {
     "name": "stdout",
     "output_type": "stream",
     "text": [
      "Number of rows after removing duplicates: 71370\n"
     ]
    }
   ],
   "source": [
    "# Remove duplicate rows\n",
    "data = data.drop_duplicates()\n",
    "# Verify the removal\n",
    "print(f\"Number of rows after removing duplicates: {data.shape[0]}\")"
   ]
  },
  {
   "cell_type": "code",
   "execution_count": 7,
   "id": "95b141f2",
   "metadata": {},
   "outputs": [],
   "source": [
    "# Keep the last occurrence of each duplicate row\n",
    "data = data.drop_duplicates(keep='last') #to keep one instance of our data"
   ]
  },
  {
   "cell_type": "code",
   "execution_count": 8,
   "id": "6d8a06a9",
   "metadata": {},
   "outputs": [
    {
     "name": "stdout",
     "output_type": "stream",
     "text": [
      "Duplicate rows: 0\n"
     ]
    }
   ],
   "source": [
    "# Verifying whether all duplicate rows have been removed\n",
    "# Check for duplicate rows\n",
    "duplicate_rows = data.duplicated().sum()\n",
    "# Output the findings\n",
    "print(f\"Duplicate rows: {duplicate_rows}\")"
   ]
  },
  {
   "cell_type": "code",
   "execution_count": 9,
   "id": "e0f2179f",
   "metadata": {},
   "outputs": [
    {
     "data": {
      "text/plain": [
       "(71370, 10)"
      ]
     },
     "execution_count": 9,
     "metadata": {},
     "output_type": "execute_result"
    }
   ],
   "source": [
    "data.shape # verifying the number of rows in the dataset after removing duplicates"
   ]
  },
  {
   "cell_type": "markdown",
   "id": "644e23d6",
   "metadata": {},
   "source": [
    "**We have now cleaned our data by removing the duplicate rows. Our total number of rows in the dataset matches the predicted number of rows we had calculated before at the start of the section**"
   ]
  },
  {
   "cell_type": "code",
   "execution_count": 10,
   "id": "1b8de1f7",
   "metadata": {},
   "outputs": [
    {
     "data": {
      "text/plain": [
       "model            object\n",
       "year              int64\n",
       "price             int64\n",
       "transmission     object\n",
       "mileage           int64\n",
       "fuelType         object\n",
       "tax             float64\n",
       "mpg             float64\n",
       "engineSize      float64\n",
       "Make             object\n",
       "dtype: object"
      ]
     },
     "execution_count": 10,
     "metadata": {},
     "output_type": "execute_result"
    }
   ],
   "source": [
    "data.dtypes"
   ]
  },
  {
   "cell_type": "markdown",
   "id": "6d86a3c7",
   "metadata": {},
   "source": [
    "# Categorisation and Normalisation"
   ]
  },
  {
   "cell_type": "markdown",
   "id": "ccce138f",
   "metadata": {},
   "source": [
    "Our dataset is a mixture of categorical and numerical parameters. In order to prepare the data for the machine learning model better we perform normalization for numerical features and one-hot encoding for categorical features."
   ]
  },
  {
   "cell_type": "code",
   "execution_count": 11,
   "id": "180fe659",
   "metadata": {},
   "outputs": [],
   "source": [
    "# Separating categorical and numerical features\n",
    "categorical_data = data.select_dtypes(include=['object']).copy()\n",
    "numerical_data = data.select_dtypes(include=['int64', 'float64']).copy()"
   ]
  },
  {
   "cell_type": "markdown",
   "id": "e67bb009",
   "metadata": {},
   "source": [
    "## One-hot encoding for categorical features"
   ]
  },
  {
   "cell_type": "code",
   "execution_count": 12,
   "id": "67cc2505",
   "metadata": {},
   "outputs": [],
   "source": [
    "encoder = OneHotEncoder()\n",
    "categorical_encoded = encoder.fit_transform(categorical_data)"
   ]
  },
  {
   "cell_type": "markdown",
   "id": "fbf6c20a",
   "metadata": {},
   "source": [
    "## Normalization for numerical features"
   ]
  },
  {
   "cell_type": "code",
   "execution_count": 13,
   "id": "edff0e7f",
   "metadata": {},
   "outputs": [],
   "source": [
    "scaler = MinMaxScaler()\n",
    "numerical_scaled = scaler.fit_transform(numerical_data.values)"
   ]
  },
  {
   "cell_type": "markdown",
   "id": "779dafbd",
   "metadata": {},
   "source": [
    "# Checking for outliers \n",
    "\n",
    "Our next step in cleaning the data is to check whether outliers exist. We check for outliers for all variables in our dataset. First, we use the IQR to find all the outliers present in the dataset and display them, following which we remove the outliers. To check whether the outliers have been successfully removed, we create boxplots for all variables."
   ]
  },
  {
   "cell_type": "code",
   "execution_count": 14,
   "id": "4e23bc9a",
   "metadata": {
    "scrolled": true
   },
   "outputs": [
    {
     "name": "stdout",
     "output_type": "stream",
     "text": [
      "Outliers for year:\n",
      "          model  year  price transmission  mileage fuelType    tax   mpg  \\\n",
      "24           A6  2006   8750    Automatic    98000   Petrol  570.0  21.1   \n",
      "26           M6  2006  12495    Semi-Auto    89000   Petrol  570.0  19.1   \n",
      "138    6 Series  2005   4995    Automatic    84000   Petrol  305.0  24.6   \n",
      "145    5 Series  2004   4250    Automatic    90000   Petrol  325.0  26.6   \n",
      "149          X5  2011  15980    Automatic    46000   Petrol  570.0  22.6   \n",
      "...         ...   ...    ...          ...      ...      ...    ...   ...   \n",
      "69174        IQ  2009   3995    Automatic    27292   Petrol   20.0  60.1   \n",
      "69175        IQ  2009   3495       Manual    43000   Petrol    0.0  65.7   \n",
      "69176        IQ  2009   2699       Manual    74095   Petrol    0.0  65.7   \n",
      "69178        IQ  2011   5995    Automatic    29000   Petrol   20.0  58.9   \n",
      "69180        IQ  2011   5500    Automatic    30000   Petrol   20.0  58.9   \n",
      "\n",
      "       engineSize    Make  \n",
      "24            5.2    audi  \n",
      "26            5.0     BMW  \n",
      "138           4.4     BMW  \n",
      "145           4.4     BMW  \n",
      "149           4.4     BMW  \n",
      "...           ...     ...  \n",
      "69174         1.0  toyota  \n",
      "69175         1.0  toyota  \n",
      "69176         1.0  toyota  \n",
      "69178         1.0  toyota  \n",
      "69180         1.0  toyota  \n",
      "\n",
      "[1263 rows x 10 columns]\n",
      "Outliers for price:\n",
      "          model  year   price transmission  mileage fuelType    tax    mpg  \\\n",
      "0      7 Series  2017   52950    Automatic    22000   Petrol  150.0   22.1   \n",
      "1      7 Series  2017   57000    Automatic    11297   Petrol  145.0   22.1   \n",
      "3            R8  2019  129000    Semi-Auto     4000   Petrol  145.0   21.4   \n",
      "4            R8  2020  137995    Semi-Auto       70   Petrol  145.0   21.1   \n",
      "5            R8  2019  125000    Automatic      100   Petrol  145.0   24.1   \n",
      "...         ...   ...     ...          ...      ...      ...    ...    ...   \n",
      "48111    Passat  2020   35999    Automatic     2030   Hybrid  135.0   41.5   \n",
      "48556    Sharan  2020   36999    Semi-Auto      250   Petrol  145.0   32.5   \n",
      "48995    Superb  2020   35990    Semi-Auto     5000   Hybrid  135.0  176.6   \n",
      "49022    Superb  2020   36000    Semi-Auto     6968   Hybrid  135.0  188.3   \n",
      "55007       I10  2017   92000    Automatic    35460   Petrol  150.0   47.9   \n",
      "\n",
      "       engineSize     Make  \n",
      "0             6.6      BMW  \n",
      "1             6.6      BMW  \n",
      "3             5.2     audi  \n",
      "4             5.2     audi  \n",
      "5             5.2     audi  \n",
      "...           ...      ...  \n",
      "48111         1.4       vw  \n",
      "48556         1.4       vw  \n",
      "48995         1.4    skoda  \n",
      "49022         1.4    skoda  \n",
      "55007         1.2  Hyundai  \n",
      "\n",
      "[2732 rows x 10 columns]\n",
      "Outliers for mileage:\n",
      "          model  year  price transmission  mileage fuelType    tax   mpg  \\\n",
      "24           A6  2006   8750    Automatic    98000   Petrol  570.0  21.1   \n",
      "26           M6  2006  12495    Semi-Auto    89000   Petrol  570.0  19.1   \n",
      "138    6 Series  2005   4995    Automatic    84000   Petrol  305.0  24.6   \n",
      "145    5 Series  2004   4250    Automatic    90000   Petrol  325.0  26.6   \n",
      "157         RS4  2014  24990    Semi-Auto    70823   Petrol  555.0  26.4   \n",
      "...         ...   ...    ...          ...      ...      ...    ...   ...   \n",
      "70761    Citigo  2013   3990       Manual    70890   Petrol   20.0  62.8   \n",
      "70911    Citigo  2016   4500       Manual    73458   Petrol   20.0  62.8   \n",
      "70915    Citigo  2013   3995    Automatic    87000   Petrol   20.0  64.2   \n",
      "70937    Citigo  2017   5000       Manual    71964   Petrol   20.0  64.2   \n",
      "71014    Citigo  2012   3595       Manual    71500   Petrol    0.0  68.9   \n",
      "\n",
      "       engineSize   Make  \n",
      "24            5.2   audi  \n",
      "26            5.0    BMW  \n",
      "138           4.4    BMW  \n",
      "145           4.4    BMW  \n",
      "157           4.2   audi  \n",
      "...           ...    ...  \n",
      "70761         1.0  skoda  \n",
      "70911         1.0  skoda  \n",
      "70915         1.0  skoda  \n",
      "70937         1.0  skoda  \n",
      "71014         1.0  skoda  \n",
      "\n",
      "[2817 rows x 10 columns]\n",
      "Outliers for tax:\n",
      "          model  year  price transmission  mileage fuelType    tax   mpg  \\\n",
      "2            A8  2015  32000    Automatic    30306   Petrol  570.0  25.0   \n",
      "17           R8  2016  79900    Semi-Auto    10172   Petrol  570.0  24.8   \n",
      "20           R8  2014  59990    Automatic    31930   Petrol  580.0  21.9   \n",
      "21           R8  2014  58450    Automatic    35000   Petrol  570.0  21.9   \n",
      "23           R8  2016  74500    Automatic    28888   Petrol  570.0  24.1   \n",
      "...         ...   ...    ...          ...      ...      ...    ...   ...   \n",
      "26418      RAV4  2004   5495    Automatic    45229   Petrol  330.0  30.4   \n",
      "26458   Avensis  2004   3495    Automatic    44000   Petrol  325.0  30.7   \n",
      "28480        TT  2004   2895       Manual   129000   Petrol  325.0  30.8   \n",
      "28482        TT  2002   1990       Manual   131925   Petrol  325.0  30.1   \n",
      "28483        S3  2003   4990       Manual   106000   Petrol  325.0  39.8   \n",
      "\n",
      "       engineSize    Make  \n",
      "2             6.3    audi  \n",
      "17            5.2    audi  \n",
      "20            5.2    audi  \n",
      "21            5.2    audi  \n",
      "23            5.2    audi  \n",
      "...           ...     ...  \n",
      "26418         2.0  toyota  \n",
      "26458         2.0  toyota  \n",
      "28480         1.8    audi  \n",
      "28482         1.8    audi  \n",
      "28483         1.8    audi  \n",
      "\n",
      "[249 rows x 10 columns]\n",
      "Outliers for mpg:\n",
      "          model  year   price transmission  mileage fuelType    tax    mpg  \\\n",
      "0      7 Series  2017   52950    Automatic    22000   Petrol  150.0   22.1   \n",
      "1      7 Series  2017   57000    Automatic    11297   Petrol  145.0   22.1   \n",
      "2            A8  2015   32000    Automatic    30306   Petrol  570.0   25.0   \n",
      "3            R8  2019  129000    Semi-Auto     4000   Petrol  145.0   21.4   \n",
      "4            R8  2020  137995    Semi-Auto       70   Petrol  145.0   21.1   \n",
      "...         ...   ...     ...          ...      ...      ...    ...    ...   \n",
      "72202        i3  2017   19300    Automatic    32867    Other    0.0  470.8   \n",
      "72203        i3  2017   20000    Automatic    19178    Other    0.0  470.8   \n",
      "72204        i3  2017   19500    Automatic    23956    Other  135.0  470.8   \n",
      "72205        i3  2016   17000    Automatic    41063    Other    0.0  470.8   \n",
      "72206        i3  2017   17600    Automatic    50867    Other  135.0  470.8   \n",
      "\n",
      "       engineSize  Make  \n",
      "0             6.6   BMW  \n",
      "1             6.6   BMW  \n",
      "2             6.3  audi  \n",
      "3             5.2  audi  \n",
      "4             5.2  audi  \n",
      "...           ...   ...  \n",
      "72202         0.6   BMW  \n",
      "72203         0.6   BMW  \n",
      "72204         0.6   BMW  \n",
      "72205         0.6   BMW  \n",
      "72206         0.6   BMW  \n",
      "\n",
      "[1062 rows x 10 columns]\n",
      "Outliers for engineSize:\n",
      "        model  year   price transmission  mileage fuelType    tax   mpg  \\\n",
      "0    7 Series  2017   52950    Automatic    22000   Petrol  150.0  22.1   \n",
      "1    7 Series  2017   57000    Automatic    11297   Petrol  145.0  22.1   \n",
      "2          A8  2015   32000    Automatic    30306   Petrol  570.0  25.0   \n",
      "3          R8  2019  129000    Semi-Auto     4000   Petrol  145.0  21.4   \n",
      "4          R8  2020  137995    Semi-Auto       70   Petrol  145.0  21.1   \n",
      "..        ...   ...     ...          ...      ...      ...    ...   ...   \n",
      "335        M3  2010   17650       Manual    81000   Petrol  570.0  22.8   \n",
      "336        M3  2013   25945    Semi-Auto    30500   Petrol  570.0  24.6   \n",
      "337        M3  2013   19699    Automatic    58125   Petrol  570.0  25.2   \n",
      "338        M3  2009   16950       Manual    65000   Petrol  580.0  21.9   \n",
      "340  5 Series  2002    6990    Automatic    78316   Petrol  325.0  23.7   \n",
      "\n",
      "     engineSize  Make  \n",
      "0           6.6   BMW  \n",
      "1           6.6   BMW  \n",
      "2           6.3  audi  \n",
      "3           5.2  audi  \n",
      "4           5.2  audi  \n",
      "..          ...   ...  \n",
      "335         4.0   BMW  \n",
      "336         4.0   BMW  \n",
      "337         4.0   BMW  \n",
      "338         4.0   BMW  \n",
      "340         3.5   BMW  \n",
      "\n",
      "[340 rows x 10 columns]\n"
     ]
    }
   ],
   "source": [
    "def find_outliers(data, columns):\n",
    "    outliers = {}\n",
    "    for column in columns:\n",
    "        Q1 = data[column].quantile(0.25)\n",
    "        Q3 = data[column].quantile(0.75)\n",
    "        IQR = Q3 - Q1\n",
    "        lower_bound = Q1 - 1.5 * IQR\n",
    "        upper_bound = Q3 + 1.5 * IQR\n",
    "        outliers[column] = data[(data[column] < lower_bound) | (data[column] > upper_bound)]\n",
    "    return outliers\n",
    "\n",
    "numerical_columns = numerical_data.columns.tolist()\n",
    "outliers = find_outliers(data, numerical_columns)\n",
    "\n",
    "for column, outlier_data in outliers.items():\n",
    "    print(f\"Outliers for {column}:\")\n",
    "    print(outlier_data)"
   ]
  },
  {
   "cell_type": "code",
   "execution_count": 15,
   "id": "06e53f88",
   "metadata": {},
   "outputs": [],
   "source": [
    "def remove_outliers(df, columns):\n",
    "    for column in columns:\n",
    "        Q1 = df[column].quantile(0.25)\n",
    "        Q3 = df[column].quantile(0.75)\n",
    "        IQR = Q3 - Q1\n",
    "        lower_bound = Q1 - 1.5 * IQR\n",
    "        upper_bound = Q3 + 1.5 * IQR\n",
    "        df = df[(df[column] >= lower_bound) & (df[column] <= upper_bound)]\n",
    "    return df\n",
    "\n",
    "# List of numerical columns\n",
    "numerical_columns = ['year','price','mileage','tax','mpg','engineSize']  # replace with your actual column names\n",
    "\n",
    "# Remove outliers\n",
    "data_cleaned = remove_outliers(data, numerical_columns)"
   ]
  },
  {
   "cell_type": "markdown",
   "id": "308b7ec7",
   "metadata": {},
   "source": [
    "**The above function shows that we do have any outliers in our dataset for year, price, mileage, tax, mpg, and engineSize. Therefore, it is needed for us to remove outliers.**"
   ]
  },
  {
   "cell_type": "code",
   "execution_count": 16,
   "id": "e573b136",
   "metadata": {
    "scrolled": false
   },
   "outputs": [
    {
     "data": {
      "image/png": "[encoded data removed]",
      "text/plain": [
       "<Figure size 1600x4800 with 6 Axes>"
      ]
     },
     "metadata": {},
     "output_type": "display_data"
    }
   ],
   "source": [
    "numerical_data = data_cleaned.select_dtypes(include=['int64', 'float64']).copy()\n",
    "numerical_columns = numerical_data.columns.tolist()\n",
    "\n",
    "# Setting up the figure based on the number of columns\n",
    "fig, axes = plt.subplots(nrows=len(numerical_columns), ncols=1, figsize=(16, 8 * len(numerical_columns)))\n",
    "axes = axes.flatten() if len(numerical_columns) > 1 else [axes]  # Ensure axes is always a list\n",
    "\n",
    "# Create boxplots for each numerical column\n",
    "for i, column in enumerate(numerical_columns):\n",
    "    sb.boxplot(x=numerical_data[column], orient=\"h\", ax=axes[i])\n",
    "    axes[i].set_title(column)\n",
    "\n",
    "plt.tight_layout()\n",
    "plt.show()"
   ]
  },
  {
   "cell_type": "markdown",
   "id": "dbcd7d0a",
   "metadata": {},
   "source": [
    "**Despite removing outliers from our dataset, through the boxplot we can see that price and mileage still have some outliers. However, considering that we are working with a neural network with an autoencoder, it is less sensitive to outliers compared to other models. Moreover, the main attributes in a car are its price and mileage which may often not represent outliers but rather valid extreme scenarios in the real world. For eg. it might be representing luxury cars and hence removing it will make it less applicable in the real world.**"
   ]
  },
  {
   "cell_type": "markdown",
   "id": "4537a23c",
   "metadata": {},
   "source": [
    "# Converting the Cleaned Data Set into a CSV File"
   ]
  },
  {
   "cell_type": "code",
   "execution_count": 17,
   "id": "aca13726",
   "metadata": {},
   "outputs": [],
   "source": [
    "data.to_csv('clean_data.csv')"
   ]
  },
  {
   "cell_type": "markdown",
   "id": "3b56b869",
   "metadata": {},
   "source": [
    "## Hence, we have now cleaned our dataset. \n",
    "1.⁠ ⁠First we checked for the presence of missing values and duplicate rows. Our analysis showed that the dataset did not contain any missing values but it did contain 842 duplicate rows which we then removed. <br>\n",
    "2.⁠ ⁠Next, we normalise the numerical data and one-hot encode the categorial data to make it easy to process data during the machine learning phase <br>\n",
    "3.⁠ ⁠Last, we check for the presence of outliers. The function we used to check it showed that our datasets had a considerable amount of outliers. We use remove_outliers() function to remove the outliers but despite that outliers in mileage and price remain. We decide to go against removing these outliers as it might make the model less applicable in real life. High prices might indicate luxury prices."
   ]
  }
 ],
 "metadata": {
  "kernelspec": {
   "display_name": "Python 3 (ipykernel)",
   "language": "python",
   "name": "python3"
  },
  "language_info": {
   "codemirror_mode": {
    "name": "ipython",
    "version": 3
   },
   "file_extension": ".py",
   "mimetype": "text/x-python",
   "name": "python",
   "nbconvert_exporter": "python",
   "pygments_lexer": "ipython3",
   "version": "3.11.5"
  }
 },
 "nbformat": 4,
 "nbformat_minor": 5
}
